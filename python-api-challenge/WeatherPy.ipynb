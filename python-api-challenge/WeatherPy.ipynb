{
 "cells": [
  {
   "cell_type": "markdown",
   "metadata": {},
   "source": [
    "# WeatherPy\n",
    "----\n",
    "\n",
    "#### Note\n",
    "* Instructions have been included for each segment. You do not have to follow them exactly, but they are included to help you think through the steps."
   ]
  },
  {
   "cell_type": "code",
   "execution_count": 1,
   "metadata": {},
   "outputs": [
    {
     "name": "stdout",
     "output_type": "stream",
     "text": [
      "Requirement already satisfied: citipy in c:\\users\\marya\\onedrive\\documents\\boot camp clls\\envs\\pythondata38\\lib\\site-packages (0.0.5)\n",
      "Requirement already satisfied: kdtree>=0.12 in c:\\users\\marya\\onedrive\\documents\\boot camp clls\\envs\\pythondata38\\lib\\site-packages (from citipy) (0.16)\n",
      "Note: you may need to restart the kernel to use updated packages.\n"
     ]
    }
   ],
   "source": [
    "pip install citipy"
   ]
  },
  {
   "cell_type": "code",
   "execution_count": 2,
   "metadata": {},
   "outputs": [],
   "source": [
    "# Dependencies and Setup\n",
    "import matplotlib.pyplot as plt\n",
    "import pandas as pd\n",
    "import numpy as np\n",
    "import requests\n",
    "import time\n",
    "from scipy.stats import linregress\n",
    "\n",
    "# Import API key\n",
    "from api_keys import weather_api_key\n",
    "\n",
    "# Incorporated citipy to determine city based on latitude and longitude\n",
    "from citipy import citipy\n",
    "\n",
    "# Output File (CSV)\n",
    "output_data_file = \"output_data/cities.csv\"\n",
    "\n",
    "# Range of latitudes and longitudes\n",
    "lat_range = (-90, 90)\n",
    "lng_range = (-180, 180)"
   ]
  },
  {
   "cell_type": "markdown",
   "metadata": {},
   "source": [
    "## Generate Cities List"
   ]
  },
  {
   "cell_type": "code",
   "execution_count": 3,
   "metadata": {},
   "outputs": [
    {
     "data": {
      "text/plain": [
       "635"
      ]
     },
     "execution_count": 3,
     "metadata": {},
     "output_type": "execute_result"
    }
   ],
   "source": [
    "# List for holding lat_lngs and cities\n",
    "lat_lngs = []\n",
    "cities = []\n",
    "\n",
    "# Create a set of random lat and lng combinations\n",
    "lats = np.random.uniform(lat_range[0], lat_range[1], size=1500)\n",
    "lngs = np.random.uniform(lng_range[0], lng_range[1], size=1500)\n",
    "lat_lngs = zip(lats, lngs)\n",
    "\n",
    "# Identify nearest city for each lat, lng combination\n",
    "for lat_lng in lat_lngs:\n",
    "    city = citipy.nearest_city(lat_lng[0], lat_lng[1]).city_name\n",
    "    \n",
    "    # If the city is unique, then add it to a our cities list\n",
    "    if city not in cities:\n",
    "        cities.append(city)\n",
    "#print(f\"The latitude information received is : {lat}\")\n",
    "#print(f\"The longitude information received is: {lng}\")\n",
    "#print(f\"The temperature information received is: {temp}\")\n",
    "\n",
    "\n",
    "# Print the city count to confirm sufficient count\n",
    "len(cities)"
   ]
  },
  {
   "cell_type": "markdown",
   "metadata": {},
   "source": [
    "### Perform API Calls\n",
    "* Perform a weather check on each city using a series of successive API calls.\n",
    "* Include a print log of each city as it'sbeing processed (with the city number and city name).\n"
   ]
  },
  {
   "cell_type": "code",
   "execution_count": 4,
   "metadata": {},
   "outputs": [
    {
     "name": "stdout",
     "output_type": "stream",
     "text": [
      "{'coord': {'lon': -101.6677, 'lat': 50.1333}, 'weather': [{'id': 801, 'main': 'Clouds', 'description': 'few clouds', 'icon': '02d'}], 'base': 'stations', 'main': {'temp': 80.29, 'feels_like': 80.04, 'temp_min': 80.29, 'temp_max': 80.29, 'pressure': 1015, 'humidity': 39, 'sea_level': 1015, 'grnd_level': 951}, 'visibility': 10000, 'wind': {'speed': 6.73, 'deg': 192, 'gust': 8.7}, 'clouds': {'all': 14}, 'dt': 1661032043, 'sys': {'country': 'CA', 'sunrise': 1660995828, 'sunset': 1661046998}, 'timezone': -21600, 'id': 6078359, 'name': 'Moosomin', 'cod': 200}\n"
     ]
    }
   ],
   "source": [
    "#create a url\n",
    "url = \"http://api.openweathermap.org/data/2.5/weather?\"\n",
    "units =\"imperial\"\n",
    "my_url = f\"{url}appid={weather_api_key}&units={units}&q=\"\n",
    "\n",
    "response = requests.get(my_url+ city).json()\n",
    "print(response)\n",
    "#response_json = response.json()\n",
    "#print(json.dumps(response_json, indent = 4, sort_keys = True))"
   ]
  },
  {
   "cell_type": "code",
   "execution_count": 59,
   "metadata": {},
   "outputs": [
    {
     "name": "stdout",
     "output_type": "stream",
     "text": [
      "-------------------------\n",
      "Traced luganville\n",
      "Traced aklavik\n",
      "Traced boshan\n",
      "Traced lorengau\n",
      "Traced punta arenas\n",
      "Traced amahai\n",
      "Traced mataura\n",
      "Traced ayan\n",
      "Traced rikitea\n",
      "Traced hami\n",
      "Traced upernavik\n",
      "Traced kapaa\n",
      "Traced faanui\n",
      "Traced conceicao do araguaia\n",
      "Traced kysyl-syr\n",
      "Traced khatanga\n",
      "Traced thompson\n",
      "Traced los llanos de aridane\n",
      "Traced lichuan\n",
      "Traced mar del plata\n",
      "Traced college\n",
      "Traced jamestown\n",
      "Traced mahebourg\n",
      "Traced constitucion\n",
      "Traced leningradskiy\n",
      "Traced barra patuca\n",
      "Traced acapulco\n",
      "Traced halifax\n",
      "Traced saskylakh\n",
      "Traced kigoma\n",
      "Traced sao joao da barra\n",
      "Traced carnarvon\n",
      "Traced barrow\n",
      "Traced palmer\n",
      "Traced domoni\n",
      "Traced watsa\n",
      "Traced synya\n",
      "Traced port hedland\n",
      "Traced touros\n",
      "This City Cannot Be Traced: lolua\n",
      "Traced ushuaia\n",
      "Traced ust-kuyga\n",
      "Traced bluff\n",
      "Traced hilo\n",
      "Traced gold coast\n",
      "Traced khao yoi\n",
      "Traced nanortalik\n",
      "Traced seoul\n",
      "Traced kodiak\n",
      "Traced castro\n",
      "Traced tuktoyaktuk\n",
      "Traced libertador general san martin\n",
      "Traced komsomolskiy\n",
      "Traced hermanus\n",
      "Traced machilipatnam\n",
      "This City Cannot Be Traced: illoqqortoormiut\n",
      "Traced kahului\n",
      "Traced yenagoa\n",
      "Traced san lawrenz\n",
      "Traced adrar\n",
      "This City Cannot Be Traced: amderma\n",
      "Traced arraial do cabo\n",
      "Traced tuatapere\n",
      "Traced vaini\n",
      "Traced longyearbyen\n",
      "This City Cannot Be Traced: dolbeau\n",
      "Traced isangel\n",
      "This City Cannot Be Traced: vaitupu\n",
      "Traced santa cruz do capibaribe\n",
      "Traced vostok\n",
      "This City Cannot Be Traced: malwan\n",
      "Traced payo\n",
      "Traced busselton\n",
      "Traced umm kaddadah\n",
      "Traced bogale\n",
      "Traced sitka\n",
      "Traced berlevag\n",
      "Traced namatanai\n",
      "Traced nikolskoye\n",
      "Traced bredasdorp\n",
      "Traced butaritari\n",
      "Traced atar\n",
      "Traced sainte-rose\n",
      "Traced warwick\n",
      "Traced bantry\n",
      "Traced souillac\n",
      "Traced labelle\n",
      "Traced skibotn\n",
      "Traced srednekolymsk\n",
      "This City Cannot Be Traced: alotau\n",
      "Traced albany\n",
      "Traced chokurdakh\n",
      "Traced pochutla\n",
      "Traced pacific grove\n",
      "Traced puerto escondido\n",
      "Traced sambava\n",
      "Traced sabha\n",
      "Traced ponta do sol\n",
      "Traced srandakan\n",
      "Traced atuona\n",
      "Traced pevek\n",
      "Traced matola\n",
      "This City Cannot Be Traced: santa eulalia del rio\n",
      "Traced san patricio\n",
      "Traced nagar karnul\n",
      "Traced klyuchi\n",
      "Traced luena\n",
      "Traced hithadhoo\n",
      "Traced lagoa\n",
      "This City Cannot Be Traced: rungata\n",
      "Traced vardo\n",
      "Traced bilibino\n",
      "Traced paamiut\n",
      "This City Cannot Be Traced: taolanaro\n",
      "Traced qaanaaq\n",
      "This City Cannot Be Traced: grand river south east\n",
      "Traced avarua\n",
      "Traced the pas\n",
      "Traced port elizabeth\n",
      "Traced solano\n",
      "Traced cabedelo\n",
      "Traced saint-philippe\n",
      "This City Cannot Be Traced: belushya guba\n",
      "Traced antofagasta\n",
      "Traced champerico\n",
      "Traced hobart\n",
      "Traced unai\n",
      "Traced bilma\n",
      "This City Cannot Be Traced: mys shmidta\n",
      "Traced yellowknife\n",
      "This City Cannot Be Traced: ozgon\n",
      "Traced sirjan\n",
      "Traced cervo\n",
      "Traced cape town\n",
      "Traced meulaboh\n",
      "Traced gamba\n",
      "Traced saint-joseph\n",
      "Traced katsuura\n",
      "Traced tiksi\n",
      "Traced dudinka\n",
      "Traced hamilton\n",
      "Traced orlik\n",
      "Traced geraldton\n",
      "Traced fulton\n",
      "Traced bambous virieux\n",
      "Traced kunda\n",
      "Traced bethel\n",
      "Traced namie\n",
      "Traced klaksvik\n",
      "Traced naze\n",
      "Traced goba\n",
      "Traced mehamn\n",
      "Traced alekseyevka\n",
      "Traced semirom\n",
      "Traced morant bay\n",
      "Traced qaqortoq\n",
      "Traced sheridan\n",
      "Traced mukhtolovo\n",
      "Traced raudeberg\n",
      "Traced east london\n",
      "Traced kaitangata\n",
      "Traced maldonado\n",
      "Traced wilmington\n",
      "Traced nailsea\n",
      "Traced kudahuvadhoo\n",
      "Traced eidsvag\n",
      "Traced lagos\n",
      "Traced axim\n",
      "Traced jumla\n",
      "Traced mount gambier\n",
      "Traced ilulissat\n",
      "Traced ucluelet\n",
      "Traced izberbash\n",
      "Traced port alfred\n",
      "This City Cannot Be Traced: warqla\n",
      "Traced dzaoudzi\n",
      "Traced dali\n",
      "Traced vestmannaeyjar\n",
      "Traced hervey bay\n",
      "Traced tuy hoa\n",
      "Traced byron bay\n",
      "Traced flinders\n",
      "Traced sorland\n",
      "Traced skjervoy\n",
      "Traced rawson\n",
      "Traced celestun\n",
      "Traced lasa\n",
      "This City Cannot Be Traced: ust-kamchatsk\n",
      "Traced dakoro\n",
      "Traced torbay\n",
      "Traced codrington\n",
      "Traced wajima\n",
      "Traced port blair\n",
      "Traced gushikawa\n",
      "Traced nampula\n",
      "Traced provideniya\n",
      "Traced puerto ayora\n",
      "Traced edremit\n",
      "This City Cannot Be Traced: longlac\n",
      "Traced fairview\n",
      "This City Cannot Be Traced: samalaeulu\n",
      "This City Cannot Be Traced: samusu\n",
      "Traced clyde river\n",
      "Traced leh\n",
      "Traced biloela\n",
      "Traced trondheim\n",
      "Traced georgetown\n",
      "Traced suksun\n",
      "Traced flin flon\n",
      "Traced verkhnyaya sinyachikha\n",
      "Traced qandala\n",
      "Traced abalak\n",
      "Traced rolla\n",
      "Traced tessalit\n",
      "This City Cannot Be Traced: attawapiskat\n",
      "Traced richards bay\n",
      "Traced uvira\n",
      "Traced amontada\n",
      "Traced kavieng\n",
      "Traced kropotkin\n",
      "Traced providencia\n",
      "Traced leshukonskoye\n",
      "Traced rio cuarto\n",
      "Traced eruwa\n",
      "Traced talnakh\n",
      "Traced mandalgovi\n",
      "Traced antalaha\n",
      "Traced chuy\n",
      "Traced aswan\n",
      "Traced businga\n",
      "Traced khasan\n",
      "Traced emerald\n",
      "Traced ukiah\n",
      "Traced hovd\n",
      "Traced camargo\n",
      "Traced lebu\n",
      "This City Cannot Be Traced: louisbourg\n",
      "Traced trogir\n",
      "Traced hammond\n",
      "Traced athabasca\n",
      "Traced dikson\n",
      "This City Cannot Be Traced: barentsburg\n",
      "Traced tasiilaq\n",
      "Traced lufilufi\n",
      "Traced tadpatri\n",
      "Traced dickinson\n",
      "Traced akcaabat\n",
      "Traced kapoeta\n",
      "Traced kavaratti\n",
      "Traced olafsvik\n",
      "Traced quincy\n",
      "Traced miyakonojo\n",
      "Traced usak\n",
      "This City Cannot Be Traced: marcona\n",
      "Traced guerrero negro\n",
      "Traced kachug\n",
      "Traced bubaque\n",
      "Traced scarborough\n",
      "Traced new norfolk\n",
      "Traced san quintin\n",
      "Traced airai\n",
      "Traced alofi\n",
      "Traced coihaique\n",
      "Traced ulkan\n",
      "Traced smidovich\n",
      "Traced bakel\n",
      "Traced carauari\n",
      "Traced la romana\n",
      "Traced warrington\n",
      "Traced urengoy\n",
      "Traced cayenne\n",
      "Traced tura\n",
      "Traced cherskiy\n",
      "Traced vanavara\n",
      "Traced tayoltita\n",
      "Traced bandarbeyla\n",
      "Traced ganta\n",
      "Traced te anau\n",
      "Traced buncrana\n",
      "Traced voyvozh\n",
      "Traced port lincoln\n",
      "Traced grenada\n",
      "Traced ahipara\n",
      "Traced beringovskiy\n",
      "Traced eyl\n",
      "Traced ancud\n",
      "Traced cooma\n",
      "Traced le port\n",
      "This City Cannot Be Traced: suzu\n",
      "Traced marabba\n",
      "Traced quang ngai\n",
      "Traced vikulovo\n",
      "Traced visnes\n",
      "Traced kirkwall\n",
      "Traced nome\n",
      "Traced murgab\n",
      "This City Cannot Be Traced: hihifo\n",
      "Traced de aar\n",
      "Traced belaya gora\n",
      "Traced fuyu\n",
      "Traced gat\n",
      "This City Cannot Be Traced: karaul\n",
      "Traced soyo\n",
      "Traced wuwei\n",
      "Traced charters towers\n",
      "Traced dunedin\n",
      "Traced kompaniyivka\n",
      "This City Cannot Be Traced: ayios matthaios\n",
      "This City Cannot Be Traced: tabiauea\n",
      "Traced baoqing\n",
      "Traced rabak\n",
      "Traced biltine\n",
      "Traced oneonta\n",
      "Traced jalu\n",
      "Traced mabopane\n",
      "Traced harihar\n",
      "Traced grand gaube\n",
      "Traced matara\n",
      "Traced kloulklubed\n",
      "This City Cannot Be Traced: palabuhanratu\n",
      "Traced minsk\n",
      "Traced phalodi\n",
      "Traced jimbolia\n",
      "Traced batagay-alyta\n",
      "Traced dalvik\n",
      "Traced tambacounda\n",
      "Traced baturaja\n",
      "Traced nemuro\n",
      "This City Cannot Be Traced: kracheh\n",
      "Traced warrnambool\n",
      "Traced iqaluit\n",
      "Traced abu samrah\n",
      "Traced teahupoo\n",
      "Traced namibe\n",
      "This City Cannot Be Traced: nizhneyansk\n",
      "Traced la ronge\n",
      "Traced zhenlai\n",
      "Traced sitia\n",
      "This City Cannot Be Traced: zhanatas\n",
      "Traced port macquarie\n",
      "Traced mackenzie\n",
      "Traced bundaberg\n",
      "Traced torrington\n",
      "Traced victoria\n",
      "Traced vila franca do campo\n",
      "Traced balkhash\n",
      "Traced panzhihua\n",
      "Traced evreux\n",
      "Traced strezhevoy\n",
      "Traced okhotsk\n",
      "Traced puerto madryn\n",
      "Traced sioux lookout\n",
      "Traced robat karim\n",
      "Traced cidreira\n",
      "Traced ullapool\n",
      "Traced swan hill\n",
      "Traced kochubey\n",
      "Traced comodoro rivadavia\n",
      "Traced andros town\n",
      "Traced haines junction\n",
      "Traced dongsheng\n",
      "Traced pridonskoy\n",
      "Traced bathsheba\n",
      "Traced alta\n",
      "Traced tomigusuku\n",
      "Traced narsaq\n",
      "Traced kruisfontein\n",
      "Traced kalur kot\n",
      "Traced chapada dos guimaraes\n",
      "Traced ribeira grande\n",
      "Traced maceio\n",
      "Traced nador\n",
      "Traced mongo\n",
      "Traced yaan\n",
      "Traced nelson bay\n",
      "Traced banda aceh\n",
      "Traced araguaina\n",
      "Traced abomsa\n",
      "Traced north bend\n",
      "Traced saint anthony\n",
      "Traced egvekinot\n",
      "Traced boffa\n",
      "Traced pinega\n",
      "Traced aden\n",
      "This City Cannot Be Traced: yuzhno-yeniseyskiy\n",
      "Traced bengkulu\n",
      "Traced yarada\n",
      "Traced ojinaga\n",
      "Traced luderitz\n",
      "Traced arlit\n",
      "Traced ahuimanu\n",
      "Traced san luis\n",
      "Traced salinas\n",
      "Traced calderitas\n",
      "Traced muzaffarabad\n",
      "Traced shenzhen\n",
      "Traced buritis\n",
      "Traced lipari\n",
      "This City Cannot Be Traced: rab\n",
      "Traced norman wells\n",
      "Traced lavrentiya\n",
      "Traced moerai\n",
      "Traced kharabali\n",
      "Traced charyshskoye\n",
      "Traced arman\n",
      "Traced north platte\n",
      "Traced tazovskiy\n",
      "Traced quartucciu\n",
      "Traced tsumeb\n",
      "Traced sao filipe\n",
      "Traced rorvik\n",
      "Traced calvinia\n",
      "Traced boden\n",
      "Traced labuhan\n",
      "Traced pisco\n",
      "This City Cannot Be Traced: sentyabrskiy\n",
      "Traced hay river\n",
      "Traced shengjin\n",
      "Traced severo-kurilsk\n",
      "Traced amapa\n",
      "Traced vadinsk\n",
      "Traced muros\n",
      "Traced beloha\n",
      "Traced chicama\n",
      "Traced tagbac\n",
      "Traced sumbe\n",
      "Traced kalakamati\n",
      "Traced kailua\n",
      "Traced bardiyah\n",
      "Traced lindenberg\n",
      "Traced katete\n",
      "Traced maraa\n",
      "Traced samarai\n",
      "Traced goderich\n",
      "Traced saint george\n",
      "Traced bonavista\n",
      "Traced yermakovskoye\n",
      "Traced tahe\n",
      "This City Cannot Be Traced: tasbuget\n",
      "Traced coquimbo\n",
      "Traced kharp\n",
      "Traced zyryanka\n",
      "Traced harper\n",
      "Traced iquique\n",
      "Traced camacha\n",
      "Traced shelburne\n",
      "This City Cannot Be Traced: paradwip\n",
      "Traced coffs harbour\n",
      "This City Cannot Be Traced: jiroft\n",
      "Traced madang\n",
      "Traced ozinki\n",
      "Traced klamath falls\n"
     ]
    },
    {
     "name": "stdout",
     "output_type": "stream",
     "text": [
      "Traced caravelas\n",
      "This City Cannot Be Traced: mrirt\n",
      "Traced verkhoyansk\n",
      "Traced kenai\n",
      "Traced tabas\n",
      "Traced benguela\n",
      "Traced lodja\n",
      "Traced inhambane\n",
      "Traced ilheus\n",
      "Traced wad rawah\n",
      "Traced acarau\n",
      "Traced orzhytsya\n",
      "Traced erenhot\n",
      "Traced benalla\n",
      "Traced padang\n",
      "This City Cannot Be Traced: artyk\n",
      "Traced kisangani\n",
      "This City Cannot Be Traced: katsiveli\n",
      "Traced carahue\n",
      "Traced atherton\n",
      "Traced moron\n",
      "Traced kuala terengganu\n",
      "Traced kapitanivka\n",
      "Traced homer\n",
      "This City Cannot Be Traced: barbar\n",
      "Traced yerbogachen\n",
      "Traced mattru\n",
      "Traced paris\n",
      "Traced mbandaka\n",
      "Traced hasaki\n",
      "Traced avera\n",
      "Traced vila velha\n",
      "This City Cannot Be Traced: jiddah\n",
      "Traced casablanca\n",
      "Traced central point\n",
      "Traced katobu\n",
      "Traced port hardy\n",
      "Traced san buenaventura\n",
      "Traced bamiantong\n",
      "Traced pushkino\n",
      "Traced markova\n",
      "Traced podor\n",
      "Traced esperance\n",
      "Traced turayf\n",
      "Traced vao\n",
      "Traced pointe-noire\n",
      "Traced sakakah\n",
      "Traced panguna\n",
      "Traced ewa beach\n",
      "Traced krasnoselkup\n",
      "Traced divnomorskoye\n",
      "Traced rocha\n",
      "Traced pandan\n",
      "Traced lokosovo\n",
      "Traced korla\n",
      "Traced xai-xai\n",
      "Traced blanquefort\n",
      "Traced saldanha\n",
      "This City Cannot Be Traced: saleaula\n",
      "Traced jadu\n",
      "Traced yeniseysk\n",
      "Traced bar harbor\n",
      "Traced saint-pierre\n",
      "Traced kidal\n",
      "Traced tual\n",
      "Traced mirnyy\n",
      "Traced quelimane\n",
      "Traced kati\n",
      "Traced kautokeino\n",
      "Traced pangnirtung\n",
      "Traced ponta delgada\n",
      "Traced tezu\n",
      "Traced annonay\n",
      "Traced isparta\n",
      "Traced atambua\n",
      "This City Cannot Be Traced: doctor pedro p. pena\n",
      "Traced le pont-de-claix\n",
      "Traced ossora\n",
      "This City Cannot Be Traced: bolungarvik\n",
      "Traced udachnyy\n",
      "This City Cannot Be Traced: karauzyak\n",
      "Traced imeni poliny osipenko\n",
      "Traced makakilo city\n",
      "Traced shonguy\n",
      "Traced romitan\n",
      "Traced rajgarh\n",
      "Traced bekhtery\n",
      "Traced muroto\n",
      "Traced kamenka\n",
      "Traced cairns\n",
      "Traced adre\n",
      "Traced mangai\n",
      "Traced lima\n",
      "Traced palmerston\n",
      "Traced mount isa\n",
      "Traced isla vista\n",
      "Traced grand-bourg\n",
      "Traced tabou\n",
      "Traced sekoma\n",
      "Traced mega\n",
      "Traced lesnoy\n",
      "Traced puerto madero\n",
      "Traced nyurba\n",
      "Traced ulaangom\n",
      "Traced elizabeth city\n",
      "Traced khao wong\n",
      "Traced ilesha\n",
      "Traced long\n",
      "Traced manaure\n",
      "Traced gobo\n",
      "Traced abu dhabi\n",
      "This City Cannot Be Traced: solovetskiy\n",
      "Traced valentin gomez farias\n",
      "Traced vilhena\n",
      "Traced merrill\n",
      "Traced krzeszowice\n",
      "Traced skibbereen\n",
      "Traced port moresby\n",
      "Traced wasilla\n",
      "Traced praia\n",
      "Traced vestmanna\n",
      "Traced tampico\n",
      "Traced syracuse\n",
      "Traced moba\n",
      "Traced springbok\n",
      "Traced grand forks\n",
      "Traced glace bay\n",
      "Traced marovoay\n",
      "Traced meadow lake\n",
      "Traced lengshuijiang\n",
      "This City Cannot Be Traced: ngukurr\n",
      "Traced namikupa\n",
      "Traced bara\n",
      "Traced dzerzhinskoye\n",
      "Traced bima\n",
      "Traced lincoln\n",
      "Traced urucara\n",
      "Traced tatawin\n",
      "Traced alizai\n",
      "Traced puerto carreno\n",
      "Traced tulsipur\n",
      "Traced marga\n",
      "Traced jacareacanga\n",
      "Traced praia da vitoria\n",
      "Traced media luna\n",
      "Traced jackson\n",
      "Traced evanston\n",
      "Traced nagapattinam\n",
      "Traced makokou\n",
      "Traced altay\n",
      "Traced bonga\n",
      "Traced shimoda\n",
      "Traced brae\n",
      "Traced evensk\n",
      "Traced vodstroy\n",
      "Traced ikom\n",
      "Traced sommerda\n",
      "Traced todos santos\n",
      "Traced guaraniacu\n",
      "Traced rio grande\n",
      "Traced anda\n",
      "Traced iquitos\n",
      "Traced nishihara\n",
      "Traced port-cartier\n",
      "Traced elbistan\n",
      "Traced necochea\n",
      "Traced boyolangu\n",
      "Traced jieshi\n",
      "Traced marzuq\n",
      "Traced dingle\n",
      "This City Cannot Be Traced: burica\n",
      "Traced ostrovnoy\n",
      "Traced sept-iles\n",
      "Traced barth\n",
      "Traced xining\n",
      "Traced rincon\n",
      "Traced greenville\n",
      "Traced huaibei\n",
      "Traced lockport\n",
      "Traced diapaga\n",
      "Traced kargasok\n",
      "Traced matay\n",
      "Traced moosomin\n"
     ]
    }
   ],
   "source": [
    "# Create a lists to hold city information\n",
    "lat =[]\n",
    "lon= []\n",
    "date = []\n",
    "country = []\n",
    "Cities = []\n",
    "temp = []\n",
    "humidity = []\n",
    "cloudiness =[]\n",
    "wind_speed = []\n",
    "\n",
    "print (\"-------------------------\")\n",
    "#add preak between api \n",
    "#time.sleep(1)\n",
    "\n",
    "#Loop through the cities \n",
    "for city in cities: \n",
    "    \n",
    "\n",
    "    try:\n",
    "    \n",
    "        response = requests.get(my_url +city).json()\n",
    "        lat.append(response[\"coord\"][\"lat\"])\n",
    "        lon.append(response[\"coord\"][\"lon\"])\n",
    "        date.append(response[\"dt\"])\n",
    "        country.append(response[\"sys\"][\"country\"])\n",
    "        Cities.append(city)\n",
    "        temp.append(response[\"main\"][\"temp_max\"])\n",
    "        humidity.append(response[\"main\"][\"humidity\"])\n",
    "        cloudiness.append(response[\"clouds\"][\"all\"])\n",
    "        wind.append(response[\"wind\"][\"speed\"])\n",
    "        print(f\"Traced {city}\")\n",
    "     \n",
    "        \n",
    "    except:\n",
    "        print(f\"This City Cannot Be Traced: {city}\")\n",
    "\n",
    "\n"
   ]
  },
  {
   "cell_type": "code",
   "execution_count": null,
   "metadata": {},
   "outputs": [],
   "source": [
    "# Get weather data\n",
    "weather_response = requests.get(my_url)\n",
    "weather_json = weather_response.json()\n",
    "weather_json"
   ]
  },
  {
   "cell_type": "code",
   "execution_count": 171,
   "metadata": {
    "scrolled": true
   },
   "outputs": [
    {
     "data": {
      "text/html": [
       "<div>\n",
       "<style scoped>\n",
       "    .dataframe tbody tr th:only-of-type {\n",
       "        vertical-align: middle;\n",
       "    }\n",
       "\n",
       "    .dataframe tbody tr th {\n",
       "        vertical-align: top;\n",
       "    }\n",
       "\n",
       "    .dataframe thead th {\n",
       "        text-align: right;\n",
       "    }\n",
       "</style>\n",
       "<table border=\"1\" class=\"dataframe\">\n",
       "  <thead>\n",
       "    <tr style=\"text-align: right;\">\n",
       "      <th></th>\n",
       "      <th>City_ID</th>\n",
       "      <th>City</th>\n",
       "      <th>Cloudiness</th>\n",
       "      <th>Country</th>\n",
       "      <th>Date</th>\n",
       "      <th>Humidity</th>\n",
       "      <th>Lat</th>\n",
       "      <th>Lng</th>\n",
       "      <th>Max Temp</th>\n",
       "      <th>Wind Speed</th>\n",
       "    </tr>\n",
       "  </thead>\n",
       "  <tbody>\n",
       "    <tr>\n",
       "      <th>0</th>\n",
       "      <td>0</td>\n",
       "      <td>ostrovnoy</td>\n",
       "      <td>2</td>\n",
       "      <td>RU</td>\n",
       "      <td>1558378754</td>\n",
       "      <td>72</td>\n",
       "      <td>68.05</td>\n",
       "      <td>39.51</td>\n",
       "      <td>37.50</td>\n",
       "      <td>7.16</td>\n",
       "    </tr>\n",
       "    <tr>\n",
       "      <th>1</th>\n",
       "      <td>1</td>\n",
       "      <td>mahebourg</td>\n",
       "      <td>75</td>\n",
       "      <td>MU</td>\n",
       "      <td>1558378503</td>\n",
       "      <td>74</td>\n",
       "      <td>-20.41</td>\n",
       "      <td>57.70</td>\n",
       "      <td>78.80</td>\n",
       "      <td>11.41</td>\n",
       "    </tr>\n",
       "    <tr>\n",
       "      <th>2</th>\n",
       "      <td>2</td>\n",
       "      <td>qaanaaq</td>\n",
       "      <td>25</td>\n",
       "      <td>GL</td>\n",
       "      <td>1558378755</td>\n",
       "      <td>73</td>\n",
       "      <td>77.48</td>\n",
       "      <td>-69.36</td>\n",
       "      <td>22.20</td>\n",
       "      <td>2.37</td>\n",
       "    </tr>\n",
       "    <tr>\n",
       "      <th>3</th>\n",
       "      <td>3</td>\n",
       "      <td>zhuhai</td>\n",
       "      <td>0</td>\n",
       "      <td>CN</td>\n",
       "      <td>1558378755</td>\n",
       "      <td>39</td>\n",
       "      <td>40.71</td>\n",
       "      <td>112.04</td>\n",
       "      <td>44.60</td>\n",
       "      <td>4.47</td>\n",
       "    </tr>\n",
       "    <tr>\n",
       "      <th>4</th>\n",
       "      <td>4</td>\n",
       "      <td>cape town</td>\n",
       "      <td>20</td>\n",
       "      <td>ZA</td>\n",
       "      <td>1558378755</td>\n",
       "      <td>76</td>\n",
       "      <td>-33.93</td>\n",
       "      <td>18.42</td>\n",
       "      <td>55.99</td>\n",
       "      <td>8.05</td>\n",
       "    </tr>\n",
       "  </tbody>\n",
       "</table>\n",
       "</div>"
      ],
      "text/plain": [
       "   City_ID       City  Cloudiness Country        Date  Humidity    Lat  \\\n",
       "0        0  ostrovnoy           2      RU  1558378754        72  68.05   \n",
       "1        1  mahebourg          75      MU  1558378503        74 -20.41   \n",
       "2        2    qaanaaq          25      GL  1558378755        73  77.48   \n",
       "3        3     zhuhai           0      CN  1558378755        39  40.71   \n",
       "4        4  cape town          20      ZA  1558378755        76 -33.93   \n",
       "\n",
       "      Lng  Max Temp  Wind Speed  \n",
       "0   39.51     37.50        7.16  \n",
       "1   57.70     78.80       11.41  \n",
       "2  -69.36     22.20        2.37  \n",
       "3  112.04     44.60        4.47  \n",
       "4   18.42     55.99        8.05  "
      ]
     },
     "execution_count": 171,
     "metadata": {},
     "output_type": "execute_result"
    }
   ],
   "source": [
    "#read the csv_file\n",
    "city_data = pd.read_csv('cities.csv')\n",
    "city_data.head()"
   ]
  },
  {
   "cell_type": "markdown",
   "metadata": {},
   "source": [
    "### Convert Raw Data to DataFrame\n",
    "* Export the city data into a .csv.\n",
    "* Display the DataFrame"
   ]
  },
  {
   "cell_type": "code",
   "execution_count": 193,
   "metadata": {},
   "outputs": [
    {
     "data": {
      "text/html": [
       "<div>\n",
       "<style scoped>\n",
       "    .dataframe tbody tr th:only-of-type {\n",
       "        vertical-align: middle;\n",
       "    }\n",
       "\n",
       "    .dataframe tbody tr th {\n",
       "        vertical-align: top;\n",
       "    }\n",
       "\n",
       "    .dataframe thead th {\n",
       "        text-align: right;\n",
       "    }\n",
       "</style>\n",
       "<table border=\"1\" class=\"dataframe\">\n",
       "  <thead>\n",
       "    <tr style=\"text-align: right;\">\n",
       "      <th></th>\n",
       "      <th>City_ID</th>\n",
       "      <th>City</th>\n",
       "      <th>Cloudiness</th>\n",
       "      <th>Country</th>\n",
       "      <th>Date</th>\n",
       "      <th>Humidity</th>\n",
       "      <th>Lat</th>\n",
       "      <th>Lng</th>\n",
       "      <th>Max Temp</th>\n",
       "      <th>Wind Speed</th>\n",
       "    </tr>\n",
       "  </thead>\n",
       "  <tbody>\n",
       "    <tr>\n",
       "      <th>0</th>\n",
       "      <td>0</td>\n",
       "      <td>ostrovnoy</td>\n",
       "      <td>2</td>\n",
       "      <td>RU</td>\n",
       "      <td>1558378754</td>\n",
       "      <td>72</td>\n",
       "      <td>68.05</td>\n",
       "      <td>39.51</td>\n",
       "      <td>37.50</td>\n",
       "      <td>7.16</td>\n",
       "    </tr>\n",
       "    <tr>\n",
       "      <th>1</th>\n",
       "      <td>1</td>\n",
       "      <td>mahebourg</td>\n",
       "      <td>75</td>\n",
       "      <td>MU</td>\n",
       "      <td>1558378503</td>\n",
       "      <td>74</td>\n",
       "      <td>-20.41</td>\n",
       "      <td>57.70</td>\n",
       "      <td>78.80</td>\n",
       "      <td>11.41</td>\n",
       "    </tr>\n",
       "    <tr>\n",
       "      <th>2</th>\n",
       "      <td>2</td>\n",
       "      <td>qaanaaq</td>\n",
       "      <td>25</td>\n",
       "      <td>GL</td>\n",
       "      <td>1558378755</td>\n",
       "      <td>73</td>\n",
       "      <td>77.48</td>\n",
       "      <td>-69.36</td>\n",
       "      <td>22.20</td>\n",
       "      <td>2.37</td>\n",
       "    </tr>\n",
       "    <tr>\n",
       "      <th>3</th>\n",
       "      <td>3</td>\n",
       "      <td>zhuhai</td>\n",
       "      <td>0</td>\n",
       "      <td>CN</td>\n",
       "      <td>1558378755</td>\n",
       "      <td>39</td>\n",
       "      <td>40.71</td>\n",
       "      <td>112.04</td>\n",
       "      <td>44.60</td>\n",
       "      <td>4.47</td>\n",
       "    </tr>\n",
       "    <tr>\n",
       "      <th>4</th>\n",
       "      <td>4</td>\n",
       "      <td>cape town</td>\n",
       "      <td>20</td>\n",
       "      <td>ZA</td>\n",
       "      <td>1558378755</td>\n",
       "      <td>76</td>\n",
       "      <td>-33.93</td>\n",
       "      <td>18.42</td>\n",
       "      <td>55.99</td>\n",
       "      <td>8.05</td>\n",
       "    </tr>\n",
       "  </tbody>\n",
       "</table>\n",
       "</div>"
      ],
      "text/plain": [
       "   City_ID       City  Cloudiness Country        Date  Humidity    Lat  \\\n",
       "0        0  ostrovnoy           2      RU  1558378754        72  68.05   \n",
       "1        1  mahebourg          75      MU  1558378503        74 -20.41   \n",
       "2        2    qaanaaq          25      GL  1558378755        73  77.48   \n",
       "3        3     zhuhai           0      CN  1558378755        39  40.71   \n",
       "4        4  cape town          20      ZA  1558378755        76 -33.93   \n",
       "\n",
       "      Lng  Max Temp  Wind Speed  \n",
       "0   39.51     37.50        7.16  \n",
       "1   57.70     78.80       11.41  \n",
       "2  -69.36     22.20        2.37  \n",
       "3  112.04     44.60        4.47  \n",
       "4   18.42     55.99        8.05  "
      ]
     },
     "execution_count": 193,
     "metadata": {},
     "output_type": "execute_result"
    }
   ],
   "source": [
    "city_daya = pd.DataFrame(    \n",
    "    {\n",
    "    \"City\": foundCities,\n",
    "    \"Country\": country,\n",
    "    \"Temperature\": temp,\n",
    "    \"Latitude\": lat,\n",
    "    \"Longitude\": lon,\n",
    "    \"Date\": date\n",
    "    }\n",
    ")\n",
    "\n",
    "\n",
    "\n",
    "\n",
    "city_data.to_csv(\"city_data.scv\", index = False)\n",
    "\n",
    "city_data.head()\n"
   ]
  },
  {
   "cell_type": "code",
   "execution_count": 194,
   "metadata": {},
   "outputs": [
    {
     "data": {
      "text/html": [
       "<div>\n",
       "<style scoped>\n",
       "    .dataframe tbody tr th:only-of-type {\n",
       "        vertical-align: middle;\n",
       "    }\n",
       "\n",
       "    .dataframe tbody tr th {\n",
       "        vertical-align: top;\n",
       "    }\n",
       "\n",
       "    .dataframe thead th {\n",
       "        text-align: right;\n",
       "    }\n",
       "</style>\n",
       "<table border=\"1\" class=\"dataframe\">\n",
       "  <thead>\n",
       "    <tr style=\"text-align: right;\">\n",
       "      <th></th>\n",
       "      <th>City_ID</th>\n",
       "      <th>Cloudiness</th>\n",
       "      <th>Date</th>\n",
       "      <th>Humidity</th>\n",
       "      <th>Lat</th>\n",
       "      <th>Lng</th>\n",
       "      <th>Max Temp</th>\n",
       "      <th>Wind Speed</th>\n",
       "    </tr>\n",
       "  </thead>\n",
       "  <tbody>\n",
       "    <tr>\n",
       "      <th>count</th>\n",
       "      <td>548.000000</td>\n",
       "      <td>548.000000</td>\n",
       "      <td>5.480000e+02</td>\n",
       "      <td>548.000000</td>\n",
       "      <td>548.000000</td>\n",
       "      <td>548.000000</td>\n",
       "      <td>548.000000</td>\n",
       "      <td>548.000000</td>\n",
       "    </tr>\n",
       "    <tr>\n",
       "      <th>mean</th>\n",
       "      <td>273.500000</td>\n",
       "      <td>49.405109</td>\n",
       "      <td>1.558379e+09</td>\n",
       "      <td>67.671533</td>\n",
       "      <td>19.665146</td>\n",
       "      <td>20.675529</td>\n",
       "      <td>64.970785</td>\n",
       "      <td>8.672682</td>\n",
       "    </tr>\n",
       "    <tr>\n",
       "      <th>std</th>\n",
       "      <td>158.338246</td>\n",
       "      <td>36.914201</td>\n",
       "      <td>7.820486e+01</td>\n",
       "      <td>23.697626</td>\n",
       "      <td>33.623560</td>\n",
       "      <td>90.307948</td>\n",
       "      <td>18.704318</td>\n",
       "      <td>5.865974</td>\n",
       "    </tr>\n",
       "    <tr>\n",
       "      <th>min</th>\n",
       "      <td>0.000000</td>\n",
       "      <td>0.000000</td>\n",
       "      <td>1.558378e+09</td>\n",
       "      <td>4.000000</td>\n",
       "      <td>-54.810000</td>\n",
       "      <td>-173.230000</td>\n",
       "      <td>4.920000</td>\n",
       "      <td>0.540000</td>\n",
       "    </tr>\n",
       "    <tr>\n",
       "      <th>25%</th>\n",
       "      <td>136.750000</td>\n",
       "      <td>13.750000</td>\n",
       "      <td>1.558379e+09</td>\n",
       "      <td>52.000000</td>\n",
       "      <td>-6.267500</td>\n",
       "      <td>-61.015000</td>\n",
       "      <td>53.970000</td>\n",
       "      <td>4.680000</td>\n",
       "    </tr>\n",
       "    <tr>\n",
       "      <th>50%</th>\n",
       "      <td>273.500000</td>\n",
       "      <td>46.500000</td>\n",
       "      <td>1.558379e+09</td>\n",
       "      <td>71.000000</td>\n",
       "      <td>21.390000</td>\n",
       "      <td>21.240000</td>\n",
       "      <td>64.990000</td>\n",
       "      <td>7.010000</td>\n",
       "    </tr>\n",
       "    <tr>\n",
       "      <th>75%</th>\n",
       "      <td>410.250000</td>\n",
       "      <td>81.000000</td>\n",
       "      <td>1.558379e+09</td>\n",
       "      <td>86.000000</td>\n",
       "      <td>47.887500</td>\n",
       "      <td>102.937500</td>\n",
       "      <td>80.600000</td>\n",
       "      <td>11.410000</td>\n",
       "    </tr>\n",
       "    <tr>\n",
       "      <th>max</th>\n",
       "      <td>547.000000</td>\n",
       "      <td>100.000000</td>\n",
       "      <td>1.558379e+09</td>\n",
       "      <td>290.000000</td>\n",
       "      <td>78.220000</td>\n",
       "      <td>179.320000</td>\n",
       "      <td>104.100000</td>\n",
       "      <td>46.080000</td>\n",
       "    </tr>\n",
       "  </tbody>\n",
       "</table>\n",
       "</div>"
      ],
      "text/plain": [
       "          City_ID  Cloudiness          Date    Humidity         Lat  \\\n",
       "count  548.000000  548.000000  5.480000e+02  548.000000  548.000000   \n",
       "mean   273.500000   49.405109  1.558379e+09   67.671533   19.665146   \n",
       "std    158.338246   36.914201  7.820486e+01   23.697626   33.623560   \n",
       "min      0.000000    0.000000  1.558378e+09    4.000000  -54.810000   \n",
       "25%    136.750000   13.750000  1.558379e+09   52.000000   -6.267500   \n",
       "50%    273.500000   46.500000  1.558379e+09   71.000000   21.390000   \n",
       "75%    410.250000   81.000000  1.558379e+09   86.000000   47.887500   \n",
       "max    547.000000  100.000000  1.558379e+09  290.000000   78.220000   \n",
       "\n",
       "              Lng    Max Temp  Wind Speed  \n",
       "count  548.000000  548.000000  548.000000  \n",
       "mean    20.675529   64.970785    8.672682  \n",
       "std     90.307948   18.704318    5.865974  \n",
       "min   -173.230000    4.920000    0.540000  \n",
       "25%    -61.015000   53.970000    4.680000  \n",
       "50%     21.240000   64.990000    7.010000  \n",
       "75%    102.937500   80.600000   11.410000  \n",
       "max    179.320000  104.100000   46.080000  "
      ]
     },
     "execution_count": 194,
     "metadata": {},
     "output_type": "execute_result"
    }
   ],
   "source": [
    "city_data.describe()"
   ]
  },
  {
   "cell_type": "markdown",
   "metadata": {},
   "source": [
    "## Inspect the data and remove the cities where the humidity > 100%.\n",
    "----\n",
    "Skip this step if there are no cities that have humidity > 100%. "
   ]
  },
  {
   "cell_type": "code",
   "execution_count": 195,
   "metadata": {
    "collapsed": true
   },
   "outputs": [
    {
     "data": {
      "text/html": [
       "<div>\n",
       "<style scoped>\n",
       "    .dataframe tbody tr th:only-of-type {\n",
       "        vertical-align: middle;\n",
       "    }\n",
       "\n",
       "    .dataframe tbody tr th {\n",
       "        vertical-align: top;\n",
       "    }\n",
       "\n",
       "    .dataframe thead th {\n",
       "        text-align: right;\n",
       "    }\n",
       "</style>\n",
       "<table border=\"1\" class=\"dataframe\">\n",
       "  <thead>\n",
       "    <tr style=\"text-align: right;\">\n",
       "      <th></th>\n",
       "      <th>City</th>\n",
       "      <th>Country</th>\n",
       "      <th>Temperature</th>\n",
       "      <th>Humidity</th>\n",
       "      <th>Cloudiness</th>\n",
       "      <th>Windspeed</th>\n",
       "      <th>Latitude</th>\n",
       "      <th>Longitude</th>\n",
       "      <th>Date</th>\n",
       "    </tr>\n",
       "  </thead>\n",
       "  <tbody>\n",
       "    <tr>\n",
       "      <th>0</th>\n",
       "      <td>luganville</td>\n",
       "      <td>VU</td>\n",
       "      <td>79.92</td>\n",
       "      <td>73</td>\n",
       "      <td>64</td>\n",
       "      <td>10.33</td>\n",
       "      <td>-15.5333</td>\n",
       "      <td>167.1667</td>\n",
       "      <td>1661033189</td>\n",
       "    </tr>\n",
       "    <tr>\n",
       "      <th>1</th>\n",
       "      <td>aklavik</td>\n",
       "      <td>CA</td>\n",
       "      <td>50.52</td>\n",
       "      <td>70</td>\n",
       "      <td>100</td>\n",
       "      <td>4.83</td>\n",
       "      <td>68.2191</td>\n",
       "      <td>-135.0107</td>\n",
       "      <td>1661033189</td>\n",
       "    </tr>\n",
       "    <tr>\n",
       "      <th>2</th>\n",
       "      <td>boshan</td>\n",
       "      <td>CN</td>\n",
       "      <td>66.15</td>\n",
       "      <td>68</td>\n",
       "      <td>80</td>\n",
       "      <td>4.14</td>\n",
       "      <td>36.4833</td>\n",
       "      <td>117.8333</td>\n",
       "      <td>1661033190</td>\n",
       "    </tr>\n",
       "    <tr>\n",
       "      <th>3</th>\n",
       "      <td>lorengau</td>\n",
       "      <td>PG</td>\n",
       "      <td>80.38</td>\n",
       "      <td>80</td>\n",
       "      <td>58</td>\n",
       "      <td>8.34</td>\n",
       "      <td>-2.0226</td>\n",
       "      <td>147.2712</td>\n",
       "      <td>1661032922</td>\n",
       "    </tr>\n",
       "    <tr>\n",
       "      <th>4</th>\n",
       "      <td>punta arenas</td>\n",
       "      <td>CL</td>\n",
       "      <td>39.11</td>\n",
       "      <td>69</td>\n",
       "      <td>46</td>\n",
       "      <td>7.94</td>\n",
       "      <td>-53.1500</td>\n",
       "      <td>-70.9167</td>\n",
       "      <td>1661033190</td>\n",
       "    </tr>\n",
       "    <tr>\n",
       "      <th>...</th>\n",
       "      <td>...</td>\n",
       "      <td>...</td>\n",
       "      <td>...</td>\n",
       "      <td>...</td>\n",
       "      <td>...</td>\n",
       "      <td>...</td>\n",
       "      <td>...</td>\n",
       "      <td>...</td>\n",
       "      <td>...</td>\n",
       "    </tr>\n",
       "    <tr>\n",
       "      <th>580</th>\n",
       "      <td>lockport</td>\n",
       "      <td>US</td>\n",
       "      <td>75.88</td>\n",
       "      <td>89</td>\n",
       "      <td>0</td>\n",
       "      <td>6.91</td>\n",
       "      <td>41.5895</td>\n",
       "      <td>-88.0578</td>\n",
       "      <td>1661033379</td>\n",
       "    </tr>\n",
       "    <tr>\n",
       "      <th>581</th>\n",
       "      <td>diapaga</td>\n",
       "      <td>BF</td>\n",
       "      <td>72.57</td>\n",
       "      <td>88</td>\n",
       "      <td>79</td>\n",
       "      <td>3.78</td>\n",
       "      <td>12.0708</td>\n",
       "      <td>1.7889</td>\n",
       "      <td>1661033180</td>\n",
       "    </tr>\n",
       "    <tr>\n",
       "      <th>582</th>\n",
       "      <td>kargasok</td>\n",
       "      <td>RU</td>\n",
       "      <td>48.29</td>\n",
       "      <td>94</td>\n",
       "      <td>100</td>\n",
       "      <td>12.06</td>\n",
       "      <td>59.0556</td>\n",
       "      <td>80.8572</td>\n",
       "      <td>1661033379</td>\n",
       "    </tr>\n",
       "    <tr>\n",
       "      <th>583</th>\n",
       "      <td>matay</td>\n",
       "      <td>EG</td>\n",
       "      <td>87.03</td>\n",
       "      <td>33</td>\n",
       "      <td>0</td>\n",
       "      <td>9.46</td>\n",
       "      <td>28.4190</td>\n",
       "      <td>30.7792</td>\n",
       "      <td>1661033379</td>\n",
       "    </tr>\n",
       "    <tr>\n",
       "      <th>584</th>\n",
       "      <td>moosomin</td>\n",
       "      <td>CA</td>\n",
       "      <td>80.29</td>\n",
       "      <td>39</td>\n",
       "      <td>14</td>\n",
       "      <td>6.73</td>\n",
       "      <td>50.1333</td>\n",
       "      <td>-101.6677</td>\n",
       "      <td>1661033380</td>\n",
       "    </tr>\n",
       "  </tbody>\n",
       "</table>\n",
       "<p>585 rows × 9 columns</p>\n",
       "</div>"
      ],
      "text/plain": [
       "             City Country  Temperature  Humidity  Cloudiness  Windspeed  \\\n",
       "0      luganville      VU        79.92        73          64      10.33   \n",
       "1         aklavik      CA        50.52        70         100       4.83   \n",
       "2          boshan      CN        66.15        68          80       4.14   \n",
       "3        lorengau      PG        80.38        80          58       8.34   \n",
       "4    punta arenas      CL        39.11        69          46       7.94   \n",
       "..            ...     ...          ...       ...         ...        ...   \n",
       "580      lockport      US        75.88        89           0       6.91   \n",
       "581       diapaga      BF        72.57        88          79       3.78   \n",
       "582      kargasok      RU        48.29        94         100      12.06   \n",
       "583         matay      EG        87.03        33           0       9.46   \n",
       "584      moosomin      CA        80.29        39          14       6.73   \n",
       "\n",
       "     Latitude  Longitude        Date  \n",
       "0    -15.5333   167.1667  1661033189  \n",
       "1     68.2191  -135.0107  1661033189  \n",
       "2     36.4833   117.8333  1661033190  \n",
       "3     -2.0226   147.2712  1661032922  \n",
       "4    -53.1500   -70.9167  1661033190  \n",
       "..        ...        ...         ...  \n",
       "580   41.5895   -88.0578  1661033379  \n",
       "581   12.0708     1.7889  1661033180  \n",
       "582   59.0556    80.8572  1661033379  \n",
       "583   28.4190    30.7792  1661033379  \n",
       "584   50.1333  -101.6677  1661033380  \n",
       "\n",
       "[585 rows x 9 columns]"
      ]
     },
     "execution_count": 195,
     "metadata": {},
     "output_type": "execute_result"
    }
   ],
   "source": [
    "#  Get the indices of cities that have humidity over 100%.\n",
    "clcity_data = city_data.drop(cityDATA[cityDATA[\"Humidity\"]>100].index)\n",
    "clcityDATA"
   ]
  },
  {
   "cell_type": "code",
   "execution_count": null,
   "metadata": {},
   "outputs": [],
   "source": [
    "# Make a new DataFrame equal to the city data to drop all humidity outliers by index.\n",
    "# Passing \"inplace=False\" will make a copy of the city_data DataFrame, which we call \"clean_city_data\".\n"
   ]
  },
  {
   "cell_type": "markdown",
   "metadata": {},
   "source": [
    "## Plotting the Data\n",
    "* Use proper labeling of the plots using plot titles (including date of analysis) and axes labels.\n",
    "* Save the plotted figures as .pngs."
   ]
  },
  {
   "cell_type": "markdown",
   "metadata": {},
   "source": [
    "## Latitude vs. Temperature Plot"
   ]
  },
  {
   "cell_type": "code",
   "execution_count": 61,
   "metadata": {},
   "outputs": [
    {
     "data": {
      "image/png": "[encoded data removed]",
      "text/plain": [
       "<Figure size 432x288 with 1 Axes>"
      ]
     },
     "metadata": {
      "needs_background": "light"
     },
     "output_type": "display_data"
    }
   ],
   "source": [
    "#The first requirement is to create a series of scatter plots.\n",
    "\n",
    "x = clcityDATA['Latitude']\n",
    "y = clcityDATA['Temperature']\n",
    "plt.scatter(x,y)\n",
    "plt.grid()\n",
    "\n",
    "# Add labels\n",
    "plt.title(f\"City Latitude vs. Max Temperature\")\n",
    "plt.xlabel(\"Latitude\")\n",
    "plt.ylabel(\"Max Temperature\")\n",
    "plt.show()"
   ]
  },
  {
   "cell_type": "markdown",
   "metadata": {},
   "source": [
    "## Latitude vs. Humidity Plot"
   ]
  },
  {
   "cell_type": "code",
   "execution_count": 62,
   "metadata": {},
   "outputs": [
    {
     "data": {
      "image/png": "[encoded data removed]",
      "text/plain": [
       "<Figure size 432x288 with 1 Axes>"
      ]
     },
     "metadata": {
      "needs_background": "light"
     },
     "output_type": "display_data"
    }
   ],
   "source": [
    "x = clcityDATA['Latitude']\n",
    "y = clcityDATA['Humidity']\n",
    "plt.scatter(x,y)\n",
    "plt.grid()\n",
    "\n",
    "# Add labels\n",
    "plt.title(f\"City Latitude vs. Humidity\")\n",
    "plt.xlabel(\"Latitude\")\n",
    "plt.ylabel(\"Humidity\")\n",
    "plt.show()"
   ]
  },
  {
   "cell_type": "markdown",
   "metadata": {},
   "source": [
    "## Latitude vs. Cloudiness Plot"
   ]
  },
  {
   "cell_type": "code",
   "execution_count": 63,
   "metadata": {},
   "outputs": [
    {
     "data": {
      "image/png": "[encoded data removed]",
      "text/plain": [
       "<Figure size 432x288 with 1 Axes>"
      ]
     },
     "metadata": {
      "needs_background": "light"
     },
     "output_type": "display_data"
    }
   ],
   "source": [
    "x = clcityDATA['Latitude']\n",
    "y = clcityDATA['Cloudiness']\n",
    "plt.scatter(x,y)\n",
    "plt.grid()\n",
    "\n",
    "# Add labels\n",
    "plt.title(f\"City Latitude vs. Cloudiness\")\n",
    "plt.xlabel(\"Latitude\")\n",
    "plt.ylabel(\"Cloudiness\")\n",
    "plt.show()"
   ]
  },
  {
   "cell_type": "markdown",
   "metadata": {},
   "source": [
    "## Latitude vs. Wind Speed Plot"
   ]
  },
  {
   "cell_type": "code",
   "execution_count": 68,
   "metadata": {},
   "outputs": [
    {
     "data": {
      "image/png": "[encoded data removed]",
      "text/plain": [
       "<Figure size 432x288 with 1 Axes>"
      ]
     },
     "metadata": {
      "needs_background": "light"
     },
     "output_type": "display_data"
    }
   ],
   "source": [
    "x = clcityDATA['Latitude']\n",
    "y = clcityDATA['Windspeed']\n",
    "plt.scatter(x,y)\n",
    "plt.grid()\n",
    "\n",
    "# Add labels\n",
    "plt.title(f\"City Latitude vs. Wind Speed\")\n",
    "plt.xlabel(\"Latitude\")\n",
    "plt.ylabel(\"Wind_speed(mph)\")\n",
    "plt.show()"
   ]
  },
  {
   "cell_type": "markdown",
   "metadata": {},
   "source": [
    "## Linear Regression"
   ]
  },
  {
   "cell_type": "code",
   "execution_count": 69,
   "metadata": {},
   "outputs": [],
   "source": [
    "northernData = clcityDATA.loc[clcityDATA[\"Latitude\"] > 0]\n",
    "southernData = clcityDATA.loc[clcityDATA[\"Latitude\"] < 0]"
   ]
  },
  {
   "cell_type": "markdown",
   "metadata": {},
   "source": [
    "####  Northern Hemisphere - Max Temp vs. Latitude Linear Regression"
   ]
  },
  {
   "cell_type": "code",
   "execution_count": 104,
   "metadata": {},
   "outputs": [],
   "source": [
    "x_values = northernData[\"Latitude\"]\n",
    "y_values = northernData[\"Temperature\"]"
   ]
  },
  {
   "cell_type": "code",
   "execution_count": 105,
   "metadata": {},
   "outputs": [
    {
     "name": "stdout",
     "output_type": "stream",
     "text": [
      "The r-value is -0.6470113464938266\n"
     ]
    },
    {
     "data": {
      "image/png": "[encoded data removed]",
      "text/plain": [
       "<Figure size 432x288 with 1 Axes>"
      ]
     },
     "metadata": {
      "needs_background": "light"
     },
     "output_type": "display_data"
    }
   ],
   "source": [
    "(slope, intercept, rvalue, pvalu, stderr) = linregress(x_values, y_values)\n",
    "reg_values = x_values * slope + intercept\n",
    "line = \"y = \" + str(round(slope,2)) + \"x + \" + str(round(intercept,2))\n",
    "plt.scatter(x_values,y_values)\n",
    "plt.plot(x_values,reg_values,\"r-\")\n",
    "\n",
    "plt.annotate(line_eq,(10,40),fontsize=10,color=\"red\")\n",
    "plt.xlabel('Latitude')\n",
    "plt.ylabel('Max Temp (F)')\n",
    "\n",
    "plt.title('Northern Hemisphere - Max Temp vs. Latitude Linear Regression')\n",
    "print(f'The r-value is {rvalue}')\n",
    "plt.show()"
   ]
  },
  {
   "cell_type": "markdown",
   "metadata": {},
   "source": [
    "####  Southern Hemisphere - Max Temp vs. Latitude Linear Regression"
   ]
  },
  {
   "cell_type": "code",
   "execution_count": 106,
   "metadata": {},
   "outputs": [],
   "source": [
    "x_values = southernData[\"Latitude\"]\n",
    "y_values = southernData[\"Temperature\"]"
   ]
  },
  {
   "cell_type": "code",
   "execution_count": 108,
   "metadata": {},
   "outputs": [
    {
     "name": "stdout",
     "output_type": "stream",
     "text": [
      "The r-value is 0.8343767707762308\n"
     ]
    },
    {
     "data": {
      "image/png": "[encoded data removed]",
      "text/plain": [
       "<Figure size 432x288 with 1 Axes>"
      ]
     },
     "metadata": {
      "needs_background": "light"
     },
     "output_type": "display_data"
    }
   ],
   "source": [
    "(slope, intercept, rvalue, pvalu, stderr) = linregress(x_values, y_values)\n",
    "reg_values = x_values * slope + intercept\n",
    "line = \"y = \" + str(round(slope,2)) + \"x + \" + str(round(intercept,2))\n",
    "plt.scatter(x_values,y_values)\n",
    "plt.plot(x_values,reg_values,\"r-\")\n",
    "\n",
    "plt.annotate(line,(-40,80),fontsize=15,color=\"red\")\n",
    "plt.xlabel('Latitude')\n",
    "plt.ylabel('Max Temp (F)')\n",
    "\n",
    "plt.title('Southern Hemisphere - Max Temp vs. Latitude Linear Regression')\n",
    "print(f'The r-value is {rvalue}')\n",
    "plt.show()"
   ]
  },
  {
   "cell_type": "code",
   "execution_count": 109,
   "metadata": {},
   "outputs": [],
   "source": [
    "x_values = northernData[\"Latitude\"]\n",
    "y_values = northernData[\"Humidity\"]"
   ]
  },
  {
   "cell_type": "markdown",
   "metadata": {},
   "source": [
    "####  Northern Hemisphere - Humidity (%) vs. Latitude Linear Regression"
   ]
  },
  {
   "cell_type": "code",
   "execution_count": 117,
   "metadata": {},
   "outputs": [
    {
     "name": "stdout",
     "output_type": "stream",
     "text": [
      "The r-value is -0.01877264371430891\n"
     ]
    },
    {
     "data": {
      "image/png": "[encoded data removed]",
      "text/plain": [
       "<Figure size 432x288 with 1 Axes>"
      ]
     },
     "metadata": {
      "needs_background": "light"
     },
     "output_type": "display_data"
    }
   ],
   "source": [
    "(slope, intercept, rvalue, pvalu, stderr) = linregress(x_values, y_values)\n",
    "reg_values = x_values * slope + intercept\n",
    "line_eq = \"y = \" + str(round(slope,2)) + \"x + \" + str(round(intercept,2))\n",
    "plt.scatter(x_values,y_values)\n",
    "plt.plot(x_values,reg_values,\"r-\")\n",
    "\n",
    "plt.annotate(line_eq,(30,15),fontsize=20,color=\"red\")\n",
    "plt.xlabel('Latitude')\n",
    "plt.ylabel('Humidity (%)')\n",
    "\n",
    "plt.title('Northern Hemisphere - Humidity vs. Latitude Linear Regression')\n",
    "print(f'The r-value is {rvalue}')\n",
    "plt.show()"
   ]
  },
  {
   "cell_type": "code",
   "execution_count": 126,
   "metadata": {},
   "outputs": [],
   "source": [
    "x_values = southernData[\"Latitude\"]\n",
    "y_values = southernData[\"Humidity\"]"
   ]
  },
  {
   "cell_type": "markdown",
   "metadata": {},
   "source": [
    "####  Southern Hemisphere - Humidity (%) vs. Latitude Linear Regression"
   ]
  },
  {
   "cell_type": "code",
   "execution_count": 127,
   "metadata": {},
   "outputs": [
    {
     "name": "stdout",
     "output_type": "stream",
     "text": [
      "The r-value is -0.029178116935350853\n"
     ]
    },
    {
     "data": {
      "image/png": "[encoded data removed]",
      "text/plain": [
       "<Figure size 432x288 with 1 Axes>"
      ]
     },
     "metadata": {
      "needs_background": "light"
     },
     "output_type": "display_data"
    }
   ],
   "source": [
    "(slope, intercept, rvalue, pvalu, stderr) = linregress(x_values, y_values)\n",
    "reg_values = x_values * slope + intercept\n",
    "line_eq = \"y = \" + str(round(slope,2)) + \"x + \" + str(round(intercept,2))\n",
    "plt.scatter(x_values,y_values)\n",
    "plt.plot(x_values,reg_values,\"r-\")\n",
    "\n",
    "plt.annotate(line_eq,(-50,30),fontsize=20,color=\"red\")\n",
    "plt.xlabel('Latitude')\n",
    "plt.ylabel('Humidity (%)')\n",
    "\n",
    "plt.title('SouthernData Hemisphere - Humidity vs. Latitude Linear Regression')\n",
    "print(f'The r-value is {rvalue}')\n",
    "plt.show()"
   ]
  },
  {
   "cell_type": "code",
   "execution_count": 128,
   "metadata": {},
   "outputs": [],
   "source": [
    "x_values = northernData[\"Latitude\"]\n",
    "y_values = northernData[\"Cloudiness\"]"
   ]
  },
  {
   "cell_type": "markdown",
   "metadata": {},
   "source": [
    "####  Northern Hemisphere - Cloudiness (%) vs. Latitude Linear Regression"
   ]
  },
  {
   "cell_type": "code",
   "execution_count": 133,
   "metadata": {},
   "outputs": [
    {
     "name": "stdout",
     "output_type": "stream",
     "text": [
      "The r-value is -0.01077050127601224\n"
     ]
    },
    {
     "data": {
      "image/png": "[encoded data removed]",
      "text/plain": [
       "<Figure size 432x288 with 1 Axes>"
      ]
     },
     "metadata": {
      "needs_background": "light"
     },
     "output_type": "display_data"
    }
   ],
   "source": [
    "(slope, intercept, rvalue, pvalu, stderr) = linregress(x_values, y_values)\n",
    "reg_values = x_values * slope + intercept\n",
    "line = \"y = \" + str(round(slope,2)) + \"x + \" + str(round(intercept,2))\n",
    "plt.scatter(x_values,y_values)\n",
    "plt.plot(x_values,reg_values,\"r-\")\n",
    "\n",
    "plt.annotate(line,(30,40),fontsize=20,color=\"red\")\n",
    "plt.xlabel('Latitude')\n",
    "plt.ylabel('Cloudiness (F)')\n",
    "\n",
    "plt.title('Northern Hemisphere - Cloudiness vs. Latitude Linear Regression')\n",
    "print(f'The r-value is {rvalue}')\n",
    "plt.show()"
   ]
  },
  {
   "cell_type": "markdown",
   "metadata": {},
   "source": [
    "####  Southern Hemisphere - Cloudiness (%) vs. Latitude Linear Regression"
   ]
  },
  {
   "cell_type": "code",
   "execution_count": 134,
   "metadata": {},
   "outputs": [],
   "source": [
    "x_values = southernData[\"Latitude\"]\n",
    "y_values = southernData[\"Cloudiness\"]"
   ]
  },
  {
   "cell_type": "code",
   "execution_count": 137,
   "metadata": {},
   "outputs": [
    {
     "name": "stdout",
     "output_type": "stream",
     "text": [
      "The r-value is 0.12891672916313865\n"
     ]
    },
    {
     "data": {
      "image/png": "[encoded data removed]",
      "text/plain": [
       "<Figure size 432x288 with 1 Axes>"
      ]
     },
     "metadata": {
      "needs_background": "light"
     },
     "output_type": "display_data"
    }
   ],
   "source": [
    "(slope, intercept, rvalue, pvalu, stderr) = linregress(x_values, y_values)\n",
    "reg_values = x_values * slope + intercept\n",
    "line = \"y = \" + str(round(slope,2)) + \"x + \" + str(round(intercept,2))\n",
    "plt.scatter(x_values,y_values)\n",
    "plt.plot(x_values,reg_values,\"r-\")\n",
    "\n",
    "plt.annotate(line,(-50,50),fontsize=20,color=\"red\")\n",
    "plt.xlabel('Latitude')\n",
    "plt.ylabel('Cloudiness (F)')\n",
    "\n",
    "plt.title('Southern Hemisphere - Cloudiness vs. Latitude Linear Regression')\n",
    "print(f'The r-value is {rvalue}')\n",
    "plt.show()"
   ]
  },
  {
   "cell_type": "markdown",
   "metadata": {},
   "source": [
    "####  Northern Hemisphere - Wind Speed (mph) vs. Latitude Linear Regression"
   ]
  },
  {
   "cell_type": "code",
   "execution_count": 143,
   "metadata": {},
   "outputs": [],
   "source": [
    "x_values = northernData[\"Latitude\"]\n",
    "y_values = northernData[\"Windspeed\"]"
   ]
  },
  {
   "cell_type": "code",
   "execution_count": 150,
   "metadata": {},
   "outputs": [
    {
     "name": "stdout",
     "output_type": "stream",
     "text": [
      "The r-value is 0.06278241836166085\n"
     ]
    },
    {
     "data": {
      "image/png": "[encoded data removed]",
      "text/plain": [
       "<Figure size 432x288 with 1 Axes>"
      ]
     },
     "metadata": {
      "needs_background": "light"
     },
     "output_type": "display_data"
    }
   ],
   "source": [
    "(slope, intercept, rvalue, pvalu, stderr) = linregress(x_values, y_values)\n",
    "reg_values = x_values * slope + intercept\n",
    "line = \"y = \" + str(round(slope,2)) + \"x + \" + str(round(intercept,2))\n",
    "plt.scatter(x_values,y_values)\n",
    "plt.plot(x_values,reg_values,\"r-\")\n",
    "\n",
    "plt.annotate(line,(20,30),fontsize=10,color=\"red\")\n",
    "plt.xlabel('Latitude')\n",
    "plt.ylabel('Wind Speed(mph)')\n",
    "\n",
    "plt.title('Northern Hemisphere - Wind Speed vs. Latitude Linear Regression')\n",
    "print(f'The r-value is {rvalue}')\n",
    "plt.show()"
   ]
  },
  {
   "cell_type": "markdown",
   "metadata": {},
   "source": [
    "####  Southern Hemisphere - Wind Speed (mph) vs. Latitude Linear Regression"
   ]
  },
  {
   "cell_type": "code",
   "execution_count": 151,
   "metadata": {},
   "outputs": [],
   "source": [
    "x_values = southernData[\"Latitude\"]\n",
    "y_values = southernData[\"Windspeed\"]"
   ]
  },
  {
   "cell_type": "code",
   "execution_count": 161,
   "metadata": {},
   "outputs": [
    {
     "name": "stdout",
     "output_type": "stream",
     "text": [
      "The r-value is -0.042813303320665935\n"
     ]
    },
    {
     "data": {
      "image/png": "[encoded data removed]",
      "text/plain": [
       "<Figure size 432x288 with 1 Axes>"
      ]
     },
     "metadata": {
      "needs_background": "light"
     },
     "output_type": "display_data"
    }
   ],
   "source": [
    "(slope, intercept, rvalue, pvalu, stderr) = linregress(x_values, y_values)\n",
    "reg_values = x_values * slope + intercept\n",
    "line = \"y = \" + str(round(slope,2)) + \"x + \" + str(round(intercept,2))\n",
    "plt.scatter(x_values,y_values)\n",
    "plt.plot(x_values,reg_values,\"r-\")\n",
    "\n",
    "plt.annotate(line,(-50,15),fontsize=10,color=\"red\")\n",
    "plt.xlabel('Latitude')\n",
    "plt.ylabel('Wind Speed(mph)')\n",
    "\n",
    "plt.title('Northern Hemisphere - Wind Speed vs. Latitude Linear Regression')\n",
    "print(f'The r-value is {rvalue}')\n",
    "plt.show()"
   ]
  },
  {
   "cell_type": "code",
   "execution_count": null,
   "metadata": {},
   "outputs": [],
   "source": []
  }
 ],
 "metadata": {
  "anaconda-cloud": {},
  "kernel_info": {
   "name": "python3"
  },
  "kernelspec": {
   "display_name": "Python 3 (ipykernel)",
   "language": "python",
   "name": "python3"
  },
  "language_info": {
   "codemirror_mode": {
    "name": "ipython",
    "version": 3
   },
   "file_extension": ".py",
   "mimetype": "text/x-python",
   "name": "python",
   "nbconvert_exporter": "python",
   "pygments_lexer": "ipython3",
   "version": "3.8.13"
  },
  "latex_envs": {
   "LaTeX_envs_menu_present": true,
   "autoclose": false,
   "autocomplete": true,
   "bibliofile": "biblio.bib",
   "cite_by": "apalike",
   "current_citInitial": 1,
   "eqLabelWithNumbers": true,
   "eqNumInitial": 1,
   "hotkeys": {
    "equation": "Ctrl-E",
    "itemize": "Ctrl-I"
   },
   "labels_anchors": false,
   "latex_user_defs": false,
   "report_style_numbering": false,
   "user_envs_cfg": false
  },
  "nteract": {
   "version": "0.12.3"
  }
 },
 "nbformat": 4,
 "nbformat_minor": 2
}
